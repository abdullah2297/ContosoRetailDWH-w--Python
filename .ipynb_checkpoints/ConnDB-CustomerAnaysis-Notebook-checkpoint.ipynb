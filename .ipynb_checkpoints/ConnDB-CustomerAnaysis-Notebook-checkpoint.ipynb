{
 "cells": [
  {
   "cell_type": "markdown",
   "id": "19ea74fb-77b0-4767-a444-eca9bc8d43ae",
   "metadata": {},
   "source": [
    "### 1. <i>Import Packages</i>"
   ]
  },
  {
   "cell_type": "code",
   "execution_count": 1,
   "id": "237b8a4a-a6e3-442a-8ee1-14f18ddc6315",
   "metadata": {},
   "outputs": [],
   "source": [
    "import numpy as np\n",
    "import pandas as pd\n",
    "import matplotlib.pyplot as plt\n",
    "import seaborn as sns\n",
    "import missingno as msno"
   ]
  },
  {
   "cell_type": "code",
   "execution_count": 2,
   "id": "1ccf0b90-a3ff-4b9c-a45e-03f6c5bde184",
   "metadata": {},
   "outputs": [],
   "source": [
    "import pyodbc"
   ]
  },
  {
   "cell_type": "markdown",
   "id": "4de0a788-7fba-4588-9581-c9fd1cdc20bc",
   "metadata": {},
   "source": [
    "### 2. Guidlines to Dealing and Connect to SQL Server DB"
   ]
  },
  {
   "cell_type": "markdown",
   "id": "13947240-3d1c-4b90-9775-afa40b009655",
   "metadata": {},
   "source": [
    "<P>Using <b>Pyodbc</b> to connect to a <b>Microsoft sql server</b> database</P>"
   ]
  },
  {
   "cell_type": "markdown",
   "id": "f655e72a-4627-4da9-9abd-7bdd2d9f72f3",
   "metadata": {},
   "source": [
    "1- To install it <code>pip install pyodbc</code> <b>OR</b> <code>conda install pyodbc</code>"
   ]
  },
  {
   "cell_type": "markdown",
   "id": "879ffa40-0a48-4fd3-bd90-26632873c143",
   "metadata": {},
   "source": [
    "2- To Read <b>Documentation</b> visit: https://github.com/mkleehammer/pyodbc/wiki"
   ]
  },
  {
   "cell_type": "code",
   "execution_count": 3,
   "id": "92f1d70d-cce9-4317-9510-4b4ba2ecf55c",
   "metadata": {},
   "outputs": [],
   "source": [
    "import pyodbc"
   ]
  },
  {
   "cell_type": "markdown",
   "id": "b0641168-b587-4508-bd3e-9d2ca7a645e2",
   "metadata": {},
   "source": [
    "Find the <b>DRIVERS</b> available"
   ]
  },
  {
   "cell_type": "code",
   "execution_count": 4,
   "id": "45df74dd-7c3e-4247-83f8-0e8297f123c4",
   "metadata": {},
   "outputs": [
    {
     "data": {
      "text/plain": [
       "['SQL Server',\n",
       " 'Microsoft Access Driver (*.mdb, *.accdb)',\n",
       " 'Microsoft Excel Driver (*.xls, *.xlsx, *.xlsm, *.xlsb)',\n",
       " 'Microsoft Access Text Driver (*.txt, *.csv)',\n",
       " 'SQL Server Native Client 11.0',\n",
       " 'SQL Server Native Client RDA 11.0',\n",
       " 'ODBC Driver 17 for SQL Server',\n",
       " 'ODBC Driver 18 for SQL Server']"
      ]
     },
     "execution_count": 4,
     "metadata": {},
     "output_type": "execute_result"
    }
   ],
   "source": [
    "pyodbc.drivers()"
   ]
  },
  {
   "cell_type": "markdown",
   "id": "d4b280ee-ff4e-4e4f-a03c-299581e37a20",
   "metadata": {},
   "source": [
    "Create a VARIABLE to store the <b>connection string</b>"
   ]
  },
  {
   "cell_type": "code",
   "execution_count": 5,
   "id": "585b073b-0a79-4493-9b7a-4aa9c3e69076",
   "metadata": {},
   "outputs": [],
   "source": [
    "conn = 'DRIVER={ODBC Driver 17 for SQL Server};SERVER=DESKTOP-2BVV9CV;DATABASE=ContosoRetailDW;Trusted_Connection=yes;'"
   ]
  },
  {
   "cell_type": "markdown",
   "id": "0e45257d-c021-4fbb-9353-5ca3a0107bc1",
   "metadata": {},
   "source": [
    "Write random <b>Query</b> to select first 10 row from DimProduct table"
   ]
  },
  {
   "cell_type": "code",
   "execution_count": 6,
   "id": "74e9cba0-3023-4a48-aba4-a47083aa8bda",
   "metadata": {},
   "outputs": [],
   "source": [
    "query = 'select top(10) * from DimProduct'"
   ]
  },
  {
   "cell_type": "markdown",
   "id": "8b07e696-1b10-47c1-8baf-12e85e33d16e",
   "metadata": {},
   "source": [
    "<b>Create</b> a CONNECTION and <b>import</b> the DATA"
   ]
  },
  {
   "cell_type": "code",
   "execution_count": 7,
   "id": "66ee3a4e-4287-4c8f-a247-391046340053",
   "metadata": {},
   "outputs": [],
   "source": [
    "## connect and execute and fetch_data\n",
    "with pyodbc.connect(conn) as conx:  ##open connection and it will close automaticly after exiting with\n",
    "    cursor = conx.cursor()          ## create a cursor we will use to communicate with database\n",
    "    cursor.execute(query)           ## Run the query we had written before\n",
    "    data = cursor.fetchall()        ## Extract all the data"
   ]
  },
  {
   "cell_type": "markdown",
   "id": "c2550761-11e6-4128-aa91-ce12d4eb6fbc",
   "metadata": {},
   "source": [
    "<b>Display</b> first row of data"
   ]
  },
  {
   "cell_type": "code",
   "execution_count": 8,
   "id": "744e590d-c704-4d11-a788-3ac47b2b6f43",
   "metadata": {},
   "outputs": [
    {
     "name": "stdout",
     "output_type": "stream",
     "text": [
      "[(1, '0101001', 'Contoso 512MB MP3 Player E51 Silver', '512MB USB driver plays MP3 and WMA', 1, 'Contoso, Ltd', 'Contoso', '1', 'Economy', '1', 'Product0101001', '7', 'Silver', '2.2 x 1.8 x 4 ', ' ', ' ', 4.8, 'ounces', '1', 'inches', '1', 'High', Decimal('6.6200'), Decimal('12.9900'), datetime.datetime(2005, 5, 3, 0, 0), None, 'On', None, None, 1, datetime.datetime(2008, 5, 25, 8, 1, 12), datetime.datetime(2008, 5, 25, 8, 1, 12))]\n"
     ]
    }
   ],
   "source": [
    "print(data[:1])"
   ]
  },
  {
   "cell_type": "markdown",
   "id": "ad56c74a-1df0-4d86-b797-ae92df030c66",
   "metadata": {},
   "source": [
    "Extract <b>Column Names</b>"
   ]
  },
  {
   "cell_type": "code",
   "execution_count": 9,
   "id": "7b031153-51f9-4803-aa0f-4d9704478f50",
   "metadata": {},
   "outputs": [],
   "source": [
    "product_columns = [row.column_name for row in cursor.columns(table='DimProduct')]"
   ]
  },
  {
   "cell_type": "markdown",
   "id": "c060f201-3ef1-44e5-8261-dc581f15e3c4",
   "metadata": {},
   "source": [
    "Convert Query results to <b>DataFrame</b>"
   ]
  },
  {
   "cell_type": "markdown",
   "id": "e3fbdaba-4438-4ac5-895b-e9fa353cbf52",
   "metadata": {},
   "source": [
    "<b>WITH PANDAS EVERYTHING IS EASY<b>"
   ]
  },
  {
   "cell_type": "markdown",
   "id": "a3ebb1ef-1e18-4aec-8b3e-19004a78cb04",
   "metadata": {},
   "source": [
    "EXTRACT data using <b>read_sql</b> in format <b>DataFrame</b>"
   ]
  },
  {
   "cell_type": "code",
   "execution_count": 12,
   "id": "faa916a3-6513-4e3a-a110-b6186693f481",
   "metadata": {},
   "outputs": [
    {
     "data": {
      "text/html": [
       "<div>\n",
       "<style scoped>\n",
       "    .dataframe tbody tr th:only-of-type {\n",
       "        vertical-align: middle;\n",
       "    }\n",
       "\n",
       "    .dataframe tbody tr th {\n",
       "        vertical-align: top;\n",
       "    }\n",
       "\n",
       "    .dataframe thead th {\n",
       "        text-align: right;\n",
       "    }\n",
       "</style>\n",
       "<table border=\"1\" class=\"dataframe\">\n",
       "  <thead>\n",
       "    <tr style=\"text-align: right;\">\n",
       "      <th></th>\n",
       "      <th>BrandName</th>\n",
       "    </tr>\n",
       "  </thead>\n",
       "  <tbody>\n",
       "    <tr>\n",
       "      <th>0</th>\n",
       "      <td>Contoso</td>\n",
       "    </tr>\n",
       "  </tbody>\n",
       "</table>\n",
       "</div>"
      ],
      "text/plain": [
       "  BrandName\n",
       "0   Contoso"
      ]
     },
     "execution_count": 12,
     "metadata": {},
     "output_type": "execute_result"
    }
   ],
   "source": [
    "with pyodbc.connect(conn) as conx:  ##open connection and it will close automaticly after exiting with\n",
    "    result = pd.read_sql('select BrandName from DimProduct',conx)\n",
    "\n",
    "result[:1]"
   ]
  },
  {
   "cell_type": "markdown",
   "id": "73501ce1-a4d1-4e60-906c-906b22f648f3",
   "metadata": {},
   "source": [
    "Declare Function for usability purpose"
   ]
  },
  {
   "cell_type": "code",
   "execution_count": 13,
   "id": "d6931fdf-0a64-48e5-a152-726ce7e13959",
   "metadata": {},
   "outputs": [],
   "source": [
    "def run_query(query):\n",
    "    with pyodbc.connect(conn) as conx: \n",
    "        result = pd.read_sql(query,conx)\n",
    "    return result\n",
    "        "
   ]
  },
  {
   "cell_type": "markdown",
   "id": "849fca7f-ed2b-4438-aa2f-b65565d03f0d",
   "metadata": {},
   "source": [
    "<b>Final Statement To extract Data from the DB in the Future</b>"
   ]
  },
  {
   "cell_type": "markdown",
   "id": "d8283911-c2c7-4bd3-bf57-4c40e822b1f3",
   "metadata": {},
   "source": [
    "<code>data = run_query('Write the Query Here....')</code>"
   ]
  },
  {
   "cell_type": "markdown",
   "id": "d12715d6-a849-49c5-9040-815d9f700a0c",
   "metadata": {},
   "source": [
    "### 3. Customer Analysis and Classification"
   ]
  },
  {
   "cell_type": "markdown",
   "id": "885d0d2b-8d4e-49b7-b154-312a73f551a2",
   "metadata": {},
   "source": [
    "#### 1.<b>import</b> data."
   ]
  },
  {
   "cell_type": "code",
   "execution_count": 23,
   "id": "b54ebdca-cb41-481f-9bff-ca8370370015",
   "metadata": {},
   "outputs": [],
   "source": [
    "customer_view = run_query('select * from V_Customer ')"
   ]
  },
  {
   "cell_type": "code",
   "execution_count": 25,
   "id": "be20c244-6eee-4334-9099-040fc700cb0f",
   "metadata": {},
   "outputs": [
    {
     "data": {
      "text/html": [
       "<div>\n",
       "<style scoped>\n",
       "    .dataframe tbody tr th:only-of-type {\n",
       "        vertical-align: middle;\n",
       "    }\n",
       "\n",
       "    .dataframe tbody tr th {\n",
       "        vertical-align: top;\n",
       "    }\n",
       "\n",
       "    .dataframe thead th {\n",
       "        text-align: right;\n",
       "    }\n",
       "</style>\n",
       "<table border=\"1\" class=\"dataframe\">\n",
       "  <thead>\n",
       "    <tr style=\"text-align: right;\">\n",
       "      <th></th>\n",
       "      <th>CustomerKey</th>\n",
       "      <th>Age</th>\n",
       "      <th>MaritalStatus</th>\n",
       "      <th>Gender</th>\n",
       "      <th>YearlyIncome</th>\n",
       "      <th>TotalChildren</th>\n",
       "      <th>NumberChildrenAtHome</th>\n",
       "      <th>Education</th>\n",
       "      <th>HouseOwnerFlag</th>\n",
       "      <th>NumberCarsOwned</th>\n",
       "      <th>Consumption</th>\n",
       "    </tr>\n",
       "  </thead>\n",
       "  <tbody>\n",
       "    <tr>\n",
       "      <th>0</th>\n",
       "      <td>4784</td>\n",
       "      <td>55</td>\n",
       "      <td>M</td>\n",
       "      <td>M</td>\n",
       "      <td>90000.0</td>\n",
       "      <td>3</td>\n",
       "      <td>3</td>\n",
       "      <td>Bachelors</td>\n",
       "      <td>1</td>\n",
       "      <td>0</td>\n",
       "      <td>33837.2515</td>\n",
       "    </tr>\n",
       "    <tr>\n",
       "      <th>1</th>\n",
       "      <td>4785</td>\n",
       "      <td>55</td>\n",
       "      <td>M</td>\n",
       "      <td>F</td>\n",
       "      <td>90000.0</td>\n",
       "      <td>4</td>\n",
       "      <td>4</td>\n",
       "      <td>Bachelors</td>\n",
       "      <td>1</td>\n",
       "      <td>0</td>\n",
       "      <td>31385.0605</td>\n",
       "    </tr>\n",
       "    <tr>\n",
       "      <th>2</th>\n",
       "      <td>4786</td>\n",
       "      <td>60</td>\n",
       "      <td>S</td>\n",
       "      <td>M</td>\n",
       "      <td>70000.0</td>\n",
       "      <td>1</td>\n",
       "      <td>0</td>\n",
       "      <td>Partial College</td>\n",
       "      <td>1</td>\n",
       "      <td>1</td>\n",
       "      <td>30868.0360</td>\n",
       "    </tr>\n",
       "    <tr>\n",
       "      <th>3</th>\n",
       "      <td>4787</td>\n",
       "      <td>60</td>\n",
       "      <td>M</td>\n",
       "      <td>M</td>\n",
       "      <td>70000.0</td>\n",
       "      <td>1</td>\n",
       "      <td>0</td>\n",
       "      <td>Partial College</td>\n",
       "      <td>1</td>\n",
       "      <td>1</td>\n",
       "      <td>32560.8110</td>\n",
       "    </tr>\n",
       "    <tr>\n",
       "      <th>4</th>\n",
       "      <td>4788</td>\n",
       "      <td>61</td>\n",
       "      <td>S</td>\n",
       "      <td>F</td>\n",
       "      <td>60000.0</td>\n",
       "      <td>1</td>\n",
       "      <td>0</td>\n",
       "      <td>Partial College</td>\n",
       "      <td>1</td>\n",
       "      <td>1</td>\n",
       "      <td>32655.6465</td>\n",
       "    </tr>\n",
       "  </tbody>\n",
       "</table>\n",
       "</div>"
      ],
      "text/plain": [
       "   CustomerKey  Age MaritalStatus Gender  YearlyIncome  TotalChildren  \\\n",
       "0         4784   55             M      M       90000.0              3   \n",
       "1         4785   55             M      F       90000.0              4   \n",
       "2         4786   60             S      M       70000.0              1   \n",
       "3         4787   60             M      M       70000.0              1   \n",
       "4         4788   61             S      F       60000.0              1   \n",
       "\n",
       "   NumberChildrenAtHome        Education HouseOwnerFlag  NumberCarsOwned  \\\n",
       "0                     3        Bachelors              1                0   \n",
       "1                     4        Bachelors              1                0   \n",
       "2                     0  Partial College              1                1   \n",
       "3                     0  Partial College              1                1   \n",
       "4                     0  Partial College              1                1   \n",
       "\n",
       "   Consumption  \n",
       "0   33837.2515  \n",
       "1   31385.0605  \n",
       "2   30868.0360  \n",
       "3   32560.8110  \n",
       "4   32655.6465  "
      ]
     },
     "execution_count": 25,
     "metadata": {},
     "output_type": "execute_result"
    }
   ],
   "source": [
    "customer_view.head()"
   ]
  },
  {
   "cell_type": "markdown",
   "id": "334d1689-6b72-4c72-ab55-d7b858954a53",
   "metadata": {},
   "source": [
    "#### 2. Exploratory Data Analysis <b>EDA</b>"
   ]
  },
  {
   "cell_type": "code",
   "execution_count": 29,
   "id": "c88c3021-a7ea-408b-9c43-1eb99db9d7ba",
   "metadata": {},
   "outputs": [
    {
     "data": {
      "text/plain": [
       "(18484, 11)"
      ]
     },
     "execution_count": 29,
     "metadata": {},
     "output_type": "execute_result"
    }
   ],
   "source": [
    "customer_view.shape"
   ]
  },
  {
   "cell_type": "code",
   "execution_count": 31,
   "id": "733a8b76-f9b7-4426-9dbf-d3f9a40167b6",
   "metadata": {},
   "outputs": [
    {
     "name": "stdout",
     "output_type": "stream",
     "text": [
      "<class 'pandas.core.frame.DataFrame'>\n",
      "RangeIndex: 18484 entries, 0 to 18483\n",
      "Data columns (total 11 columns):\n",
      " #   Column                Non-Null Count  Dtype  \n",
      "---  ------                --------------  -----  \n",
      " 0   CustomerKey           18484 non-null  int64  \n",
      " 1   Age                   18484 non-null  int64  \n",
      " 2   MaritalStatus         18484 non-null  object \n",
      " 3   Gender                18484 non-null  object \n",
      " 4   YearlyIncome          18484 non-null  float64\n",
      " 5   TotalChildren         18484 non-null  int64  \n",
      " 6   NumberChildrenAtHome  18484 non-null  int64  \n",
      " 7   Education             18484 non-null  object \n",
      " 8   HouseOwnerFlag        18484 non-null  object \n",
      " 9   NumberCarsOwned       18484 non-null  int64  \n",
      " 10  Consumption           18484 non-null  float64\n",
      "dtypes: float64(2), int64(5), object(4)\n",
      "memory usage: 1.6+ MB\n"
     ]
    }
   ],
   "source": [
    "customer_view.info()"
   ]
  },
  {
   "cell_type": "code",
   "execution_count": 35,
   "id": "8851bcbf-277a-47ed-a85f-c152c1f7da2d",
   "metadata": {},
   "outputs": [
    {
     "data": {
      "text/plain": [
       "array(['1', '0'], dtype=object)"
      ]
     },
     "execution_count": 35,
     "metadata": {},
     "output_type": "execute_result"
    }
   ],
   "source": [
    "customer_view['HouseOwnerFlag'].unique()"
   ]
  },
  {
   "cell_type": "code",
   "execution_count": 39,
   "id": "4654cb35-b37b-46c3-ae80-fa058b855127",
   "metadata": {},
   "outputs": [
    {
     "data": {
      "text/plain": [
       "array(['Bachelors', 'Partial College', 'High School', 'Graduate Degree',\n",
       "       'Partial High School'], dtype=object)"
      ]
     },
     "execution_count": 39,
     "metadata": {},
     "output_type": "execute_result"
    }
   ],
   "source": [
    "customer_view['Education'].unique()"
   ]
  },
  {
   "cell_type": "code",
   "execution_count": 41,
   "id": "7960a03d-0fb9-4075-b5b3-86cd8f291e0c",
   "metadata": {},
   "outputs": [
    {
     "data": {
      "text/plain": [
       "CustomerKey             18484\n",
       "Age                        70\n",
       "MaritalStatus               2\n",
       "Gender                      2\n",
       "YearlyIncome               16\n",
       "TotalChildren               6\n",
       "NumberChildrenAtHome        6\n",
       "Education                   5\n",
       "HouseOwnerFlag              2\n",
       "NumberCarsOwned             5\n",
       "Consumption             18477\n",
       "dtype: int64"
      ]
     },
     "execution_count": 41,
     "metadata": {},
     "output_type": "execute_result"
    }
   ],
   "source": [
    "customer_view.nunique()"
   ]
  },
  {
   "cell_type": "code",
   "execution_count": 45,
   "id": "f76ed158-0bb0-4754-aec0-d7c009700c7e",
   "metadata": {},
   "outputs": [
    {
     "data": {
      "text/plain": [
       "array([ 90000.,  70000.,  60000.,  40000.,  30000., 110000., 120000.,\n",
       "       130000., 100000.,  80000., 170000.,  10000.,  20000.,  50000.,\n",
       "       160000., 150000.])"
      ]
     },
     "execution_count": 45,
     "metadata": {},
     "output_type": "execute_result"
    }
   ],
   "source": [
    "customer_view['YearlyIncome'].unique()"
   ]
  },
  {
   "cell_type": "code",
   "execution_count": 49,
   "id": "cfc1002b-5d2c-456c-9952-5141879b93d6",
   "metadata": {},
   "outputs": [
    {
     "data": {
      "text/html": [
       "<div>\n",
       "<style scoped>\n",
       "    .dataframe tbody tr th:only-of-type {\n",
       "        vertical-align: middle;\n",
       "    }\n",
       "\n",
       "    .dataframe tbody tr th {\n",
       "        vertical-align: top;\n",
       "    }\n",
       "\n",
       "    .dataframe thead th {\n",
       "        text-align: right;\n",
       "    }\n",
       "</style>\n",
       "<table border=\"1\" class=\"dataframe\">\n",
       "  <thead>\n",
       "    <tr style=\"text-align: right;\">\n",
       "      <th></th>\n",
       "      <th>CustomerKey</th>\n",
       "      <th>Age</th>\n",
       "      <th>YearlyIncome</th>\n",
       "      <th>TotalChildren</th>\n",
       "      <th>NumberChildrenAtHome</th>\n",
       "      <th>NumberCarsOwned</th>\n",
       "      <th>Consumption</th>\n",
       "    </tr>\n",
       "  </thead>\n",
       "  <tbody>\n",
       "    <tr>\n",
       "      <th>count</th>\n",
       "      <td>18484.000000</td>\n",
       "      <td>18484.000000</td>\n",
       "      <td>18484.000000</td>\n",
       "      <td>18484.000000</td>\n",
       "      <td>18484.000000</td>\n",
       "      <td>18484.000000</td>\n",
       "      <td>18484.000000</td>\n",
       "    </tr>\n",
       "    <tr>\n",
       "      <th>mean</th>\n",
       "      <td>9242.500000</td>\n",
       "      <td>60.420039</td>\n",
       "      <td>57305.777970</td>\n",
       "      <td>1.844352</td>\n",
       "      <td>1.004058</td>\n",
       "      <td>1.502705</td>\n",
       "      <td>37099.852957</td>\n",
       "    </tr>\n",
       "    <tr>\n",
       "      <th>std</th>\n",
       "      <td>5336.015523</td>\n",
       "      <td>11.249188</td>\n",
       "      <td>32285.841703</td>\n",
       "      <td>1.612408</td>\n",
       "      <td>1.522660</td>\n",
       "      <td>1.138394</td>\n",
       "      <td>12827.674330</td>\n",
       "    </tr>\n",
       "    <tr>\n",
       "      <th>min</th>\n",
       "      <td>1.000000</td>\n",
       "      <td>42.000000</td>\n",
       "      <td>10000.000000</td>\n",
       "      <td>0.000000</td>\n",
       "      <td>0.000000</td>\n",
       "      <td>0.000000</td>\n",
       "      <td>14082.861900</td>\n",
       "    </tr>\n",
       "    <tr>\n",
       "      <th>25%</th>\n",
       "      <td>4621.750000</td>\n",
       "      <td>52.000000</td>\n",
       "      <td>30000.000000</td>\n",
       "      <td>0.000000</td>\n",
       "      <td>0.000000</td>\n",
       "      <td>1.000000</td>\n",
       "      <td>29513.601875</td>\n",
       "    </tr>\n",
       "    <tr>\n",
       "      <th>50%</th>\n",
       "      <td>9242.500000</td>\n",
       "      <td>59.000000</td>\n",
       "      <td>60000.000000</td>\n",
       "      <td>2.000000</td>\n",
       "      <td>0.000000</td>\n",
       "      <td>2.000000</td>\n",
       "      <td>33292.109750</td>\n",
       "    </tr>\n",
       "    <tr>\n",
       "      <th>75%</th>\n",
       "      <td>13863.250000</td>\n",
       "      <td>68.000000</td>\n",
       "      <td>70000.000000</td>\n",
       "      <td>3.000000</td>\n",
       "      <td>2.000000</td>\n",
       "      <td>2.000000</td>\n",
       "      <td>38475.990375</td>\n",
       "    </tr>\n",
       "    <tr>\n",
       "      <th>max</th>\n",
       "      <td>18484.000000</td>\n",
       "      <td>112.000000</td>\n",
       "      <td>170000.000000</td>\n",
       "      <td>5.000000</td>\n",
       "      <td>5.000000</td>\n",
       "      <td>4.000000</td>\n",
       "      <td>85363.952500</td>\n",
       "    </tr>\n",
       "  </tbody>\n",
       "</table>\n",
       "</div>"
      ],
      "text/plain": [
       "        CustomerKey           Age   YearlyIncome  TotalChildren  \\\n",
       "count  18484.000000  18484.000000   18484.000000   18484.000000   \n",
       "mean    9242.500000     60.420039   57305.777970       1.844352   \n",
       "std     5336.015523     11.249188   32285.841703       1.612408   \n",
       "min        1.000000     42.000000   10000.000000       0.000000   \n",
       "25%     4621.750000     52.000000   30000.000000       0.000000   \n",
       "50%     9242.500000     59.000000   60000.000000       2.000000   \n",
       "75%    13863.250000     68.000000   70000.000000       3.000000   \n",
       "max    18484.000000    112.000000  170000.000000       5.000000   \n",
       "\n",
       "       NumberChildrenAtHome  NumberCarsOwned   Consumption  \n",
       "count          18484.000000     18484.000000  18484.000000  \n",
       "mean               1.004058         1.502705  37099.852957  \n",
       "std                1.522660         1.138394  12827.674330  \n",
       "min                0.000000         0.000000  14082.861900  \n",
       "25%                0.000000         1.000000  29513.601875  \n",
       "50%                0.000000         2.000000  33292.109750  \n",
       "75%                2.000000         2.000000  38475.990375  \n",
       "max                5.000000         4.000000  85363.952500  "
      ]
     },
     "execution_count": 49,
     "metadata": {},
     "output_type": "execute_result"
    }
   ],
   "source": [
    "customer_view.describe()"
   ]
  },
  {
   "cell_type": "code",
   "execution_count": null,
   "id": "b162b35d-c9a4-4e87-88b7-71cc7cbd033b",
   "metadata": {},
   "outputs": [],
   "source": []
  },
  {
   "cell_type": "code",
   "execution_count": null,
   "id": "b443980b-9f36-4d68-9c01-7d41cf8efde9",
   "metadata": {},
   "outputs": [],
   "source": []
  },
  {
   "cell_type": "code",
   "execution_count": null,
   "id": "50f185f1-aff8-4ff3-b6c6-0466fc293367",
   "metadata": {},
   "outputs": [],
   "source": []
  },
  {
   "cell_type": "code",
   "execution_count": null,
   "id": "19e5ca3b-7b5e-4958-8028-634e6c0db909",
   "metadata": {},
   "outputs": [],
   "source": []
  }
 ],
 "metadata": {
  "kernelspec": {
   "display_name": "Python 3",
   "language": "python",
   "name": "python3"
  },
  "language_info": {
   "codemirror_mode": {
    "name": "ipython",
    "version": 3
   },
   "file_extension": ".py",
   "mimetype": "text/x-python",
   "name": "python",
   "nbconvert_exporter": "python",
   "pygments_lexer": "ipython3",
   "version": "3.8.8"
  }
 },
 "nbformat": 4,
 "nbformat_minor": 5
}

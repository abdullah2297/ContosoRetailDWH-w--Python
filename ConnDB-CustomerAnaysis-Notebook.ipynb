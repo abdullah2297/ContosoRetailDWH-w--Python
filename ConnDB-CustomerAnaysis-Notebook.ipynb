{
 "cells": [
  {
   "cell_type": "markdown",
   "id": "19ea74fb-77b0-4767-a444-eca9bc8d43ae",
   "metadata": {},
   "source": [
    "### 1. <i>Import Packages</i>"
   ]
  },
  {
   "cell_type": "code",
   "execution_count": 1,
   "id": "237b8a4a-a6e3-442a-8ee1-14f18ddc6315",
   "metadata": {},
   "outputs": [],
   "source": [
    "import numpy as np\n",
    "import pandas as pd\n",
    "import matplotlib.pyplot as plt\n",
    "import seaborn as sns\n",
    "import missingno as msno"
   ]
  },
  {
   "cell_type": "code",
   "execution_count": 2,
   "id": "1ccf0b90-a3ff-4b9c-a45e-03f6c5bde184",
   "metadata": {},
   "outputs": [],
   "source": [
    "import pyodbc"
   ]
  },
  {
   "cell_type": "markdown",
   "id": "4de0a788-7fba-4588-9581-c9fd1cdc20bc",
   "metadata": {},
   "source": [
    "### 2. Guidlines to Dealing and Connect to SQL Server DB"
   ]
  },
  {
   "cell_type": "markdown",
   "id": "13947240-3d1c-4b90-9775-afa40b009655",
   "metadata": {},
   "source": [
    "<P>Using <b>Pyodbc</b> to connect to a <b>Microsoft sql server</b> database</P>"
   ]
  },
  {
   "cell_type": "markdown",
   "id": "f655e72a-4627-4da9-9abd-7bdd2d9f72f3",
   "metadata": {},
   "source": [
    "1- To install it <code>pip install pyodbc</code> <b>OR</b> <code>conda install pyodbc</code>"
   ]
  },
  {
   "cell_type": "markdown",
   "id": "879ffa40-0a48-4fd3-bd90-26632873c143",
   "metadata": {},
   "source": [
    "2- To Read <b>Documentation</b> visit: https://github.com/mkleehammer/pyodbc/wiki"
   ]
  },
  {
   "cell_type": "code",
   "execution_count": 3,
   "id": "92f1d70d-cce9-4317-9510-4b4ba2ecf55c",
   "metadata": {},
   "outputs": [],
   "source": [
    "import pyodbc"
   ]
  },
  {
   "cell_type": "markdown",
   "id": "b0641168-b587-4508-bd3e-9d2ca7a645e2",
   "metadata": {},
   "source": [
    "Find the <b>DRIVERS</b> available"
   ]
  },
  {
   "cell_type": "code",
   "execution_count": 4,
   "id": "45df74dd-7c3e-4247-83f8-0e8297f123c4",
   "metadata": {},
   "outputs": [
    {
     "data": {
      "text/plain": [
       "['SQL Server',\n",
       " 'Microsoft Access Driver (*.mdb, *.accdb)',\n",
       " 'Microsoft Excel Driver (*.xls, *.xlsx, *.xlsm, *.xlsb)',\n",
       " 'Microsoft Access Text Driver (*.txt, *.csv)',\n",
       " 'SQL Server Native Client 11.0',\n",
       " 'SQL Server Native Client RDA 11.0',\n",
       " 'ODBC Driver 17 for SQL Server',\n",
       " 'ODBC Driver 18 for SQL Server']"
      ]
     },
     "execution_count": 4,
     "metadata": {},
     "output_type": "execute_result"
    }
   ],
   "source": [
    "pyodbc.drivers()"
   ]
  },
  {
   "cell_type": "markdown",
   "id": "d4b280ee-ff4e-4e4f-a03c-299581e37a20",
   "metadata": {},
   "source": [
    "Create a VARIABLE to store the <b>connection string</b>"
   ]
  },
  {
   "cell_type": "code",
   "execution_count": 5,
   "id": "585b073b-0a79-4493-9b7a-4aa9c3e69076",
   "metadata": {},
   "outputs": [],
   "source": [
    "conn = 'DRIVER={ODBC Driver 17 for SQL Server};SERVER=DESKTOP-2BVV9CV;DATABASE=ContosoRetailDW;Trusted_Connection=yes;'"
   ]
  },
  {
   "cell_type": "markdown",
   "id": "0e45257d-c021-4fbb-9353-5ca3a0107bc1",
   "metadata": {},
   "source": [
    "Write random <b>Query</b> to select first 10 row from DimProduct table"
   ]
  },
  {
   "cell_type": "code",
   "execution_count": 6,
   "id": "74e9cba0-3023-4a48-aba4-a47083aa8bda",
   "metadata": {},
   "outputs": [],
   "source": [
    "query = 'select top(10) * from DimProduct'"
   ]
  },
  {
   "cell_type": "markdown",
   "id": "8b07e696-1b10-47c1-8baf-12e85e33d16e",
   "metadata": {},
   "source": [
    "<b>Create</b> a CONNECTION and <b>import</b> the DATA"
   ]
  },
  {
   "cell_type": "code",
   "execution_count": 7,
   "id": "66ee3a4e-4287-4c8f-a247-391046340053",
   "metadata": {},
   "outputs": [],
   "source": [
    "## connect and execute and fetch_data\n",
    "with pyodbc.connect(conn) as conx:  ##open connection and it will close automaticly after exiting with\n",
    "    cursor = conx.cursor()          ## create a cursor we will use to communicate with database\n",
    "    cursor.execute(query)           ## Run the query we had written before\n",
    "    data = cursor.fetchall()        ## Extract all the data"
   ]
  },
  {
   "cell_type": "markdown",
   "id": "c2550761-11e6-4128-aa91-ce12d4eb6fbc",
   "metadata": {},
   "source": [
    "<b>Display</b> first row of data"
   ]
  },
  {
   "cell_type": "code",
   "execution_count": 8,
   "id": "744e590d-c704-4d11-a788-3ac47b2b6f43",
   "metadata": {},
   "outputs": [
    {
     "name": "stdout",
     "output_type": "stream",
     "text": [
      "[(1, '0101001', 'Contoso 512MB MP3 Player E51 Silver', '512MB USB driver plays MP3 and WMA', 1, 'Contoso, Ltd', 'Contoso', '1', 'Economy', '1', 'Product0101001', '7', 'Silver', '2.2 x 1.8 x 4 ', ' ', ' ', 4.8, 'ounces', '1', 'inches', '1', 'High', Decimal('6.6200'), Decimal('12.9900'), datetime.datetime(2005, 5, 3, 0, 0), None, 'On', None, None, 1, datetime.datetime(2008, 5, 25, 8, 1, 12), datetime.datetime(2008, 5, 25, 8, 1, 12))]\n"
     ]
    }
   ],
   "source": [
    "print(data[:1])"
   ]
  },
  {
   "cell_type": "markdown",
   "id": "ad56c74a-1df0-4d86-b797-ae92df030c66",
   "metadata": {},
   "source": [
    "Extract <b>Column Names</b>"
   ]
  },
  {
   "cell_type": "code",
   "execution_count": 9,
   "id": "7b031153-51f9-4803-aa0f-4d9704478f50",
   "metadata": {},
   "outputs": [],
   "source": [
    "product_columns = [row.column_name for row in cursor.columns(table='DimProduct')]"
   ]
  },
  {
   "cell_type": "markdown",
   "id": "c060f201-3ef1-44e5-8261-dc581f15e3c4",
   "metadata": {},
   "source": [
    "Convert Query results to <b>DataFrame</b>"
   ]
  },
  {
   "cell_type": "markdown",
   "id": "e3fbdaba-4438-4ac5-895b-e9fa353cbf52",
   "metadata": {},
   "source": [
    "<b>WITH PANDAS EVERYTHING IS EASY<b>"
   ]
  },
  {
   "cell_type": "markdown",
   "id": "a3ebb1ef-1e18-4aec-8b3e-19004a78cb04",
   "metadata": {},
   "source": [
    "EXTRACT data using <b>read_sql</b> in format <b>DataFrame</b>"
   ]
  },
  {
   "cell_type": "code",
   "execution_count": 10,
   "id": "faa916a3-6513-4e3a-a110-b6186693f481",
   "metadata": {},
   "outputs": [
    {
     "data": {
      "text/html": [
       "<div>\n",
       "<style scoped>\n",
       "    .dataframe tbody tr th:only-of-type {\n",
       "        vertical-align: middle;\n",
       "    }\n",
       "\n",
       "    .dataframe tbody tr th {\n",
       "        vertical-align: top;\n",
       "    }\n",
       "\n",
       "    .dataframe thead th {\n",
       "        text-align: right;\n",
       "    }\n",
       "</style>\n",
       "<table border=\"1\" class=\"dataframe\">\n",
       "  <thead>\n",
       "    <tr style=\"text-align: right;\">\n",
       "      <th></th>\n",
       "      <th>BrandName</th>\n",
       "    </tr>\n",
       "  </thead>\n",
       "  <tbody>\n",
       "    <tr>\n",
       "      <th>0</th>\n",
       "      <td>Contoso</td>\n",
       "    </tr>\n",
       "  </tbody>\n",
       "</table>\n",
       "</div>"
      ],
      "text/plain": [
       "  BrandName\n",
       "0   Contoso"
      ]
     },
     "execution_count": 10,
     "metadata": {},
     "output_type": "execute_result"
    }
   ],
   "source": [
    "with pyodbc.connect(conn) as conx:  ##open connection and it will close automaticly after exiting with\n",
    "    result = pd.read_sql('select BrandName from DimProduct',conx)\n",
    "\n",
    "result[:1]"
   ]
  },
  {
   "cell_type": "markdown",
   "id": "73501ce1-a4d1-4e60-906c-906b22f648f3",
   "metadata": {},
   "source": [
    "Declare Function for usability purpose"
   ]
  },
  {
   "cell_type": "code",
   "execution_count": 11,
   "id": "d6931fdf-0a64-48e5-a152-726ce7e13959",
   "metadata": {},
   "outputs": [],
   "source": [
    "def run_query(query):\n",
    "    with pyodbc.connect(conn) as conx: \n",
    "        result = pd.read_sql(query,conx)\n",
    "    return result\n",
    "        "
   ]
  },
  {
   "cell_type": "markdown",
   "id": "849fca7f-ed2b-4438-aa2f-b65565d03f0d",
   "metadata": {},
   "source": [
    "<b>Final Statement To extract Data from the DB in the Future</b>"
   ]
  },
  {
   "cell_type": "markdown",
   "id": "d8283911-c2c7-4bd3-bf57-4c40e822b1f3",
   "metadata": {},
   "source": [
    "<code>data = run_query('Write the Query Here....')</code>"
   ]
  },
  {
   "cell_type": "markdown",
   "id": "d12715d6-a849-49c5-9040-815d9f700a0c",
   "metadata": {},
   "source": [
    "### 3. Customer Analysis and Classification"
   ]
  },
  {
   "cell_type": "markdown",
   "id": "885d0d2b-8d4e-49b7-b154-312a73f551a2",
   "metadata": {},
   "source": [
    "#### 1.<b>import</b> data."
   ]
  },
  {
   "cell_type": "code",
   "execution_count": 12,
   "id": "b54ebdca-cb41-481f-9bff-ca8370370015",
   "metadata": {},
   "outputs": [],
   "source": [
    "customer_view = run_query('select * from V_Customer ')"
   ]
  },
  {
   "cell_type": "code",
   "execution_count": 13,
   "id": "be20c244-6eee-4334-9099-040fc700cb0f",
   "metadata": {},
   "outputs": [
    {
     "data": {
      "text/html": [
       "<div>\n",
       "<style scoped>\n",
       "    .dataframe tbody tr th:only-of-type {\n",
       "        vertical-align: middle;\n",
       "    }\n",
       "\n",
       "    .dataframe tbody tr th {\n",
       "        vertical-align: top;\n",
       "    }\n",
       "\n",
       "    .dataframe thead th {\n",
       "        text-align: right;\n",
       "    }\n",
       "</style>\n",
       "<table border=\"1\" class=\"dataframe\">\n",
       "  <thead>\n",
       "    <tr style=\"text-align: right;\">\n",
       "      <th></th>\n",
       "      <th>CustomerKey</th>\n",
       "      <th>Age</th>\n",
       "      <th>MaritalStatus</th>\n",
       "      <th>Gender</th>\n",
       "      <th>YearlyIncome</th>\n",
       "      <th>TotalChildren</th>\n",
       "      <th>NumberChildrenAtHome</th>\n",
       "      <th>Education</th>\n",
       "      <th>HouseOwnerFlag</th>\n",
       "      <th>NumberCarsOwned</th>\n",
       "      <th>Consumption</th>\n",
       "    </tr>\n",
       "  </thead>\n",
       "  <tbody>\n",
       "    <tr>\n",
       "      <th>0</th>\n",
       "      <td>4793</td>\n",
       "      <td>62</td>\n",
       "      <td>M</td>\n",
       "      <td>M</td>\n",
       "      <td>60000.0</td>\n",
       "      <td>1</td>\n",
       "      <td>0</td>\n",
       "      <td>Partial College</td>\n",
       "      <td>1</td>\n",
       "      <td>1</td>\n",
       "      <td>33756.2510</td>\n",
       "    </tr>\n",
       "    <tr>\n",
       "      <th>1</th>\n",
       "      <td>4794</td>\n",
       "      <td>57</td>\n",
       "      <td>S</td>\n",
       "      <td>F</td>\n",
       "      <td>70000.0</td>\n",
       "      <td>0</td>\n",
       "      <td>0</td>\n",
       "      <td>Bachelors</td>\n",
       "      <td>0</td>\n",
       "      <td>1</td>\n",
       "      <td>30342.1470</td>\n",
       "    </tr>\n",
       "    <tr>\n",
       "      <th>2</th>\n",
       "      <td>4795</td>\n",
       "      <td>57</td>\n",
       "      <td>M</td>\n",
       "      <td>F</td>\n",
       "      <td>80000.0</td>\n",
       "      <td>5</td>\n",
       "      <td>5</td>\n",
       "      <td>Bachelors</td>\n",
       "      <td>0</td>\n",
       "      <td>4</td>\n",
       "      <td>39773.1060</td>\n",
       "    </tr>\n",
       "    <tr>\n",
       "      <th>3</th>\n",
       "      <td>4796</td>\n",
       "      <td>57</td>\n",
       "      <td>M</td>\n",
       "      <td>F</td>\n",
       "      <td>80000.0</td>\n",
       "      <td>5</td>\n",
       "      <td>5</td>\n",
       "      <td>Bachelors</td>\n",
       "      <td>1</td>\n",
       "      <td>4</td>\n",
       "      <td>31457.9080</td>\n",
       "    </tr>\n",
       "    <tr>\n",
       "      <th>4</th>\n",
       "      <td>4810</td>\n",
       "      <td>62</td>\n",
       "      <td>M</td>\n",
       "      <td>M</td>\n",
       "      <td>70000.0</td>\n",
       "      <td>5</td>\n",
       "      <td>4</td>\n",
       "      <td>Partial College</td>\n",
       "      <td>1</td>\n",
       "      <td>3</td>\n",
       "      <td>31213.5885</td>\n",
       "    </tr>\n",
       "  </tbody>\n",
       "</table>\n",
       "</div>"
      ],
      "text/plain": [
       "   CustomerKey  Age MaritalStatus Gender  YearlyIncome  TotalChildren  \\\n",
       "0         4793   62             M      M       60000.0              1   \n",
       "1         4794   57             S      F       70000.0              0   \n",
       "2         4795   57             M      F       80000.0              5   \n",
       "3         4796   57             M      F       80000.0              5   \n",
       "4         4810   62             M      M       70000.0              5   \n",
       "\n",
       "   NumberChildrenAtHome        Education HouseOwnerFlag  NumberCarsOwned  \\\n",
       "0                     0  Partial College              1                1   \n",
       "1                     0        Bachelors              0                1   \n",
       "2                     5        Bachelors              0                4   \n",
       "3                     5        Bachelors              1                4   \n",
       "4                     4  Partial College              1                3   \n",
       "\n",
       "   Consumption  \n",
       "0   33756.2510  \n",
       "1   30342.1470  \n",
       "2   39773.1060  \n",
       "3   31457.9080  \n",
       "4   31213.5885  "
      ]
     },
     "execution_count": 13,
     "metadata": {},
     "output_type": "execute_result"
    }
   ],
   "source": [
    "customer_view.head()"
   ]
  },
  {
   "cell_type": "markdown",
   "id": "334d1689-6b72-4c72-ab55-d7b858954a53",
   "metadata": {},
   "source": [
    "#### 2. Exploratory Data Analysis <b>EDA</b>"
   ]
  },
  {
   "cell_type": "code",
   "execution_count": 14,
   "id": "c88c3021-a7ea-408b-9c43-1eb99db9d7ba",
   "metadata": {},
   "outputs": [
    {
     "data": {
      "text/plain": [
       "(18484, 11)"
      ]
     },
     "execution_count": 14,
     "metadata": {},
     "output_type": "execute_result"
    }
   ],
   "source": [
    "customer_view.shape"
   ]
  },
  {
   "cell_type": "markdown",
   "id": "7baf4e8a-e510-45c7-8788-34258c149611",
   "metadata": {},
   "source": [
    "<p><b> The Data Contains 18484 Rows and 11 Columns</b></p>"
   ]
  },
  {
   "cell_type": "code",
   "execution_count": 15,
   "id": "733a8b76-f9b7-4426-9dbf-d3f9a40167b6",
   "metadata": {},
   "outputs": [
    {
     "name": "stdout",
     "output_type": "stream",
     "text": [
      "<class 'pandas.core.frame.DataFrame'>\n",
      "RangeIndex: 18484 entries, 0 to 18483\n",
      "Data columns (total 11 columns):\n",
      " #   Column                Non-Null Count  Dtype  \n",
      "---  ------                --------------  -----  \n",
      " 0   CustomerKey           18484 non-null  int64  \n",
      " 1   Age                   18484 non-null  int64  \n",
      " 2   MaritalStatus         18484 non-null  object \n",
      " 3   Gender                18484 non-null  object \n",
      " 4   YearlyIncome          18484 non-null  float64\n",
      " 5   TotalChildren         18484 non-null  int64  \n",
      " 6   NumberChildrenAtHome  18484 non-null  int64  \n",
      " 7   Education             18484 non-null  object \n",
      " 8   HouseOwnerFlag        18484 non-null  object \n",
      " 9   NumberCarsOwned       18484 non-null  int64  \n",
      " 10  Consumption           18484 non-null  float64\n",
      "dtypes: float64(2), int64(5), object(4)\n",
      "memory usage: 1.6+ MB\n"
     ]
    }
   ],
   "source": [
    "customer_view.info()"
   ]
  },
  {
   "cell_type": "markdown",
   "id": "92f4c26d-48ca-41c7-a500-38944efe335a",
   "metadata": {},
   "source": [
    "<p><b>Data types are good and contains of categorical and Numerical Data</b></p>"
   ]
  },
  {
   "cell_type": "code",
   "execution_count": 16,
   "id": "8851bcbf-277a-47ed-a85f-c152c1f7da2d",
   "metadata": {},
   "outputs": [
    {
     "data": {
      "text/plain": [
       "array(['1', '0'], dtype=object)"
      ]
     },
     "execution_count": 16,
     "metadata": {},
     "output_type": "execute_result"
    }
   ],
   "source": [
    "customer_view['HouseOwnerFlag'].unique()"
   ]
  },
  {
   "cell_type": "code",
   "execution_count": 17,
   "id": "4654cb35-b37b-46c3-ae80-fa058b855127",
   "metadata": {},
   "outputs": [
    {
     "data": {
      "text/plain": [
       "array(['Partial College', 'Bachelors', 'High School',\n",
       "       'Partial High School', 'Graduate Degree'], dtype=object)"
      ]
     },
     "execution_count": 17,
     "metadata": {},
     "output_type": "execute_result"
    }
   ],
   "source": [
    "customer_view['Education'].unique()"
   ]
  },
  {
   "cell_type": "code",
   "execution_count": 18,
   "id": "7960a03d-0fb9-4075-b5b3-86cd8f291e0c",
   "metadata": {},
   "outputs": [
    {
     "data": {
      "text/plain": [
       "CustomerKey             18484\n",
       "Age                        70\n",
       "MaritalStatus               2\n",
       "Gender                      2\n",
       "YearlyIncome               16\n",
       "TotalChildren               6\n",
       "NumberChildrenAtHome        6\n",
       "Education                   5\n",
       "HouseOwnerFlag              2\n",
       "NumberCarsOwned             5\n",
       "Consumption             18477\n",
       "dtype: int64"
      ]
     },
     "execution_count": 18,
     "metadata": {},
     "output_type": "execute_result"
    }
   ],
   "source": [
    "customer_view.nunique()"
   ]
  },
  {
   "cell_type": "markdown",
   "id": "1b9a1338-1dac-44fb-a781-5cfe26b22605",
   "metadata": {},
   "source": [
    "<p><b> There are unique values in many feature the will be very good at EDA  </b></p>"
   ]
  },
  {
   "cell_type": "code",
   "execution_count": 19,
   "id": "f76ed158-0bb0-4754-aec0-d7c009700c7e",
   "metadata": {},
   "outputs": [
    {
     "data": {
      "text/plain": [
       "array([ 60000.,  70000.,  80000.,  30000.,  40000.,  50000., 110000.,\n",
       "       120000., 150000.,  90000., 100000., 170000., 130000.,  20000.,\n",
       "        10000., 160000.])"
      ]
     },
     "execution_count": 19,
     "metadata": {},
     "output_type": "execute_result"
    }
   ],
   "source": [
    "customer_view['YearlyIncome'].unique()"
   ]
  },
  {
   "cell_type": "code",
   "execution_count": 20,
   "id": "cfc1002b-5d2c-456c-9952-5141879b93d6",
   "metadata": {},
   "outputs": [
    {
     "data": {
      "text/html": [
       "<div>\n",
       "<style scoped>\n",
       "    .dataframe tbody tr th:only-of-type {\n",
       "        vertical-align: middle;\n",
       "    }\n",
       "\n",
       "    .dataframe tbody tr th {\n",
       "        vertical-align: top;\n",
       "    }\n",
       "\n",
       "    .dataframe thead th {\n",
       "        text-align: right;\n",
       "    }\n",
       "</style>\n",
       "<table border=\"1\" class=\"dataframe\">\n",
       "  <thead>\n",
       "    <tr style=\"text-align: right;\">\n",
       "      <th></th>\n",
       "      <th>CustomerKey</th>\n",
       "      <th>Age</th>\n",
       "      <th>YearlyIncome</th>\n",
       "      <th>TotalChildren</th>\n",
       "      <th>NumberChildrenAtHome</th>\n",
       "      <th>NumberCarsOwned</th>\n",
       "      <th>Consumption</th>\n",
       "    </tr>\n",
       "  </thead>\n",
       "  <tbody>\n",
       "    <tr>\n",
       "      <th>count</th>\n",
       "      <td>18484.000000</td>\n",
       "      <td>18484.000000</td>\n",
       "      <td>18484.000000</td>\n",
       "      <td>18484.000000</td>\n",
       "      <td>18484.000000</td>\n",
       "      <td>18484.000000</td>\n",
       "      <td>18484.000000</td>\n",
       "    </tr>\n",
       "    <tr>\n",
       "      <th>mean</th>\n",
       "      <td>9242.500000</td>\n",
       "      <td>60.420039</td>\n",
       "      <td>57305.777970</td>\n",
       "      <td>1.844352</td>\n",
       "      <td>1.004058</td>\n",
       "      <td>1.502705</td>\n",
       "      <td>37099.852957</td>\n",
       "    </tr>\n",
       "    <tr>\n",
       "      <th>std</th>\n",
       "      <td>5336.015523</td>\n",
       "      <td>11.249188</td>\n",
       "      <td>32285.841703</td>\n",
       "      <td>1.612408</td>\n",
       "      <td>1.522660</td>\n",
       "      <td>1.138394</td>\n",
       "      <td>12827.674330</td>\n",
       "    </tr>\n",
       "    <tr>\n",
       "      <th>min</th>\n",
       "      <td>1.000000</td>\n",
       "      <td>42.000000</td>\n",
       "      <td>10000.000000</td>\n",
       "      <td>0.000000</td>\n",
       "      <td>0.000000</td>\n",
       "      <td>0.000000</td>\n",
       "      <td>14082.861900</td>\n",
       "    </tr>\n",
       "    <tr>\n",
       "      <th>25%</th>\n",
       "      <td>4621.750000</td>\n",
       "      <td>52.000000</td>\n",
       "      <td>30000.000000</td>\n",
       "      <td>0.000000</td>\n",
       "      <td>0.000000</td>\n",
       "      <td>1.000000</td>\n",
       "      <td>29513.601875</td>\n",
       "    </tr>\n",
       "    <tr>\n",
       "      <th>50%</th>\n",
       "      <td>9242.500000</td>\n",
       "      <td>59.000000</td>\n",
       "      <td>60000.000000</td>\n",
       "      <td>2.000000</td>\n",
       "      <td>0.000000</td>\n",
       "      <td>2.000000</td>\n",
       "      <td>33292.109750</td>\n",
       "    </tr>\n",
       "    <tr>\n",
       "      <th>75%</th>\n",
       "      <td>13863.250000</td>\n",
       "      <td>68.000000</td>\n",
       "      <td>70000.000000</td>\n",
       "      <td>3.000000</td>\n",
       "      <td>2.000000</td>\n",
       "      <td>2.000000</td>\n",
       "      <td>38475.990375</td>\n",
       "    </tr>\n",
       "    <tr>\n",
       "      <th>max</th>\n",
       "      <td>18484.000000</td>\n",
       "      <td>112.000000</td>\n",
       "      <td>170000.000000</td>\n",
       "      <td>5.000000</td>\n",
       "      <td>5.000000</td>\n",
       "      <td>4.000000</td>\n",
       "      <td>85363.952500</td>\n",
       "    </tr>\n",
       "  </tbody>\n",
       "</table>\n",
       "</div>"
      ],
      "text/plain": [
       "        CustomerKey           Age   YearlyIncome  TotalChildren  \\\n",
       "count  18484.000000  18484.000000   18484.000000   18484.000000   \n",
       "mean    9242.500000     60.420039   57305.777970       1.844352   \n",
       "std     5336.015523     11.249188   32285.841703       1.612408   \n",
       "min        1.000000     42.000000   10000.000000       0.000000   \n",
       "25%     4621.750000     52.000000   30000.000000       0.000000   \n",
       "50%     9242.500000     59.000000   60000.000000       2.000000   \n",
       "75%    13863.250000     68.000000   70000.000000       3.000000   \n",
       "max    18484.000000    112.000000  170000.000000       5.000000   \n",
       "\n",
       "       NumberChildrenAtHome  NumberCarsOwned   Consumption  \n",
       "count          18484.000000     18484.000000  18484.000000  \n",
       "mean               1.004058         1.502705  37099.852957  \n",
       "std                1.522660         1.138394  12827.674330  \n",
       "min                0.000000         0.000000  14082.861900  \n",
       "25%                0.000000         1.000000  29513.601875  \n",
       "50%                0.000000         2.000000  33292.109750  \n",
       "75%                2.000000         2.000000  38475.990375  \n",
       "max                5.000000         4.000000  85363.952500  "
      ]
     },
     "execution_count": 20,
     "metadata": {},
     "output_type": "execute_result"
    }
   ],
   "source": [
    "customer_view.describe()"
   ]
  },
  {
   "cell_type": "markdown",
   "id": "5ca7c714-844d-486c-9800-987a2bfc066d",
   "metadata": {},
   "source": [
    "<p><b>\n",
    "<ul>\n",
    "<li>The Age is between 42 years old and 112 years old</li>\n",
    "<li>The avrage age is 60 years old</li>\n",
    "<li>The yearlyincome is between 10000 and 170000</li>\n",
    "<li>The Consumption is between 14082 and 85363</li>\n",
    "<li>The Average consumption is 73099</li>\n",
    "</ul>\n",
    "</b></p>"
   ]
  },
  {
   "cell_type": "code",
   "execution_count": 21,
   "id": "b162b35d-c9a4-4e87-88b7-71cc7cbd033b",
   "metadata": {},
   "outputs": [
    {
     "data": {
      "text/plain": [
       "CustomerKey             0\n",
       "Age                     0\n",
       "MaritalStatus           0\n",
       "Gender                  0\n",
       "YearlyIncome            0\n",
       "TotalChildren           0\n",
       "NumberChildrenAtHome    0\n",
       "Education               0\n",
       "HouseOwnerFlag          0\n",
       "NumberCarsOwned         0\n",
       "Consumption             0\n",
       "dtype: int64"
      ]
     },
     "execution_count": 21,
     "metadata": {},
     "output_type": "execute_result"
    }
   ],
   "source": [
    "customer_view.isna().sum()"
   ]
  },
  {
   "cell_type": "code",
   "execution_count": 22,
   "id": "fc445b32-34e0-43c8-ba58-57acb242de05",
   "metadata": {},
   "outputs": [
    {
     "data": {
      "text/plain": [
       "0"
      ]
     },
     "execution_count": 22,
     "metadata": {},
     "output_type": "execute_result"
    }
   ],
   "source": [
    "customer_view.duplicated().sum()"
   ]
  },
  {
   "cell_type": "markdown",
   "id": "5d805d78-520f-4843-8719-918f2c3b18e8",
   "metadata": {},
   "source": [
    "<p><b>There are no missing data or duplicates </b></p>"
   ]
  },
  {
   "cell_type": "code",
   "execution_count": 23,
   "id": "b443980b-9f36-4d68-9c01-7d41cf8efde9",
   "metadata": {},
   "outputs": [
    {
     "data": {
      "image/png": "[encoded data removed]",
      "text/plain": [
       "<Figure size 576x360 with 1 Axes>"
      ]
     },
     "metadata": {
      "needs_background": "light"
     },
     "output_type": "display_data"
    }
   ],
   "source": [
    "plt.figure(figsize=(8,5))\n",
    "sns.histplot(customer_view.YearlyIncome)\n",
    "plt.show()"
   ]
  },
  {
   "cell_type": "code",
   "execution_count": 24,
   "id": "50f185f1-aff8-4ff3-b6c6-0466fc293367",
   "metadata": {},
   "outputs": [
    {
     "data": {
      "image/png": "[encoded data removed]",
      "text/plain": [
       "<Figure size 432x288 with 1 Axes>"
      ]
     },
     "metadata": {
      "needs_background": "light"
     },
     "output_type": "display_data"
    }
   ],
   "source": [
    "sns.boxplot(data=customer_view, x='YearlyIncome')\n",
    "plt.show()"
   ]
  },
  {
   "cell_type": "markdown",
   "id": "16c11579-7d8b-40d1-b46a-d3a7728423a2",
   "metadata": {},
   "source": [
    "<p><b>The YearlyIncome data are skewed to the right and there are Outliers From Range 140000 to 170000 </b></p>"
   ]
  },
  {
   "cell_type": "code",
   "execution_count": 25,
   "id": "5c4a092d-683e-4b0b-9195-fb97a9504f6b",
   "metadata": {},
   "outputs": [
    {
     "data": {
      "image/png": "[encoded data removed]",
      "text/plain": [
       "<Figure size 432x288 with 1 Axes>"
      ]
     },
     "metadata": {
      "needs_background": "light"
     },
     "output_type": "display_data"
    }
   ],
   "source": [
    "sns.histplot(customer_view.Age)\n",
    "plt.show()"
   ]
  },
  {
   "cell_type": "code",
   "execution_count": 26,
   "id": "1f9041d4-9d66-47f2-a093-d44ec4107ffc",
   "metadata": {},
   "outputs": [
    {
     "data": {
      "image/png": "[encoded data removed]",
      "text/plain": [
       "<Figure size 432x288 with 1 Axes>"
      ]
     },
     "metadata": {
      "needs_background": "light"
     },
     "output_type": "display_data"
    }
   ],
   "source": [
    "sns.boxplot(x='Age', data=customer_view)\n",
    "plt.show()"
   ]
  },
  {
   "cell_type": "markdown",
   "id": "50a3473b-028f-4e53-9720-34c00cf3a1b3",
   "metadata": {},
   "source": [
    "<p><b>The Age data are skewed to the right and there are Outliers From Age 92 to 122 </b></p>"
   ]
  },
  {
   "cell_type": "code",
   "execution_count": 27,
   "id": "6837ebc8-64bd-4302-962a-9a6f1a191fb1",
   "metadata": {},
   "outputs": [
    {
     "data": {
      "image/png": "[encoded data removed]",
      "text/plain": [
       "<Figure size 432x288 with 1 Axes>"
      ]
     },
     "metadata": {
      "needs_background": "light"
     },
     "output_type": "display_data"
    }
   ],
   "source": [
    "sns.histplot(customer_view.Consumption)\n",
    "plt.show()"
   ]
  },
  {
   "cell_type": "markdown",
   "id": "a5de93d1-0b79-4d64-8f7c-1e908043f4d5",
   "metadata": {},
   "source": [
    "<b>The Majority of consumption is between 250000 and 40000 <b>"
   ]
  },
  {
   "cell_type": "code",
   "execution_count": 28,
   "id": "f2a5d08c-0af8-4774-99ff-62ccf040cd0b",
   "metadata": {},
   "outputs": [
    {
     "data": {
      "image/png": "[encoded data removed]",
      "text/plain": [
       "<Figure size 432x288 with 1 Axes>"
      ]
     },
     "metadata": {
      "needs_background": "light"
     },
     "output_type": "display_data"
    }
   ],
   "source": [
    "sns.boxplot(x='Consumption', data=customer_view)\n",
    "plt.show()"
   ]
  },
  {
   "cell_type": "code",
   "execution_count": 29,
   "id": "8829b086-2d86-4607-82e9-f1295528aa13",
   "metadata": {},
   "outputs": [
    {
     "data": {
      "image/png": "[encoded data removed]",
      "text/plain": [
       "<Figure size 360x360 with 1 Axes>"
      ]
     },
     "metadata": {
      "needs_background": "light"
     },
     "output_type": "display_data"
    }
   ],
   "source": [
    "sns.lmplot(x='Consumption', y='YearlyIncome', data=customer_view)\n",
    "plt.show()"
   ]
  },
  {
   "cell_type": "code",
   "execution_count": 30,
   "id": "ed929126-945f-4e76-964c-63eb86b682e8",
   "metadata": {},
   "outputs": [
    {
     "data": {
      "text/plain": [
       "<AxesSubplot:>"
      ]
     },
     "execution_count": 30,
     "metadata": {},
     "output_type": "execute_result"
    },
    {
     "data": {
      "image/png": "[encoded data removed]",
      "text/plain": [
       "<Figure size 432x288 with 1 Axes>"
      ]
     },
     "metadata": {
      "needs_background": "light"
     },
     "output_type": "display_data"
    }
   ],
   "source": [
    "customer_view.HouseOwnerFlag.value_counts().plot.bar()"
   ]
  },
  {
   "cell_type": "code",
   "execution_count": 31,
   "id": "b70a12a3-655e-45c5-9ccc-d158534feb78",
   "metadata": {},
   "outputs": [
    {
     "data": {
      "text/plain": [
       "<AxesSubplot:>"
      ]
     },
     "execution_count": 31,
     "metadata": {},
     "output_type": "execute_result"
    },
    {
     "data": {
      "image/png": "[encoded data removed]",
      "text/plain": [
       "<Figure size 432x288 with 1 Axes>"
      ]
     },
     "metadata": {
      "needs_background": "light"
     },
     "output_type": "display_data"
    }
   ],
   "source": [
    "customer_view.Gender.value_counts().plot.bar()"
   ]
  },
  {
   "cell_type": "code",
   "execution_count": 32,
   "id": "65b2bf2d-2055-47ee-8881-4ba74dac0809",
   "metadata": {},
   "outputs": [
    {
     "data": {
      "text/plain": [
       "<AxesSubplot:>"
      ]
     },
     "execution_count": 32,
     "metadata": {},
     "output_type": "execute_result"
    },
    {
     "data": {
      "image/png": "[encoded data removed]",
      "text/plain": [
       "<Figure size 432x288 with 1 Axes>"
      ]
     },
     "metadata": {
      "needs_background": "light"
     },
     "output_type": "display_data"
    }
   ],
   "source": [
    "customer_view.MaritalStatus.value_counts().plot.bar()"
   ]
  },
  {
   "cell_type": "code",
   "execution_count": 41,
   "id": "dc62930c-fcd4-4b17-acfa-0a65c0f7dbba",
   "metadata": {},
   "outputs": [],
   "source": [
    "# sales_amount_key = run_query('select sum(Amount) as Amount, CustomerKey from V_CustomerOrders group by CustomerKey')\n"
   ]
  },
  {
   "cell_type": "code",
   "execution_count": 42,
   "id": "0c9e8709",
   "metadata": {
    "scrolled": true
   },
   "outputs": [],
   "source": [
    "# sales_amount_key.head()"
   ]
  },
  {
   "cell_type": "code",
   "execution_count": 35,
   "id": "26065108-9a4f-4259-821a-4f5aeeef9c8c",
   "metadata": {},
   "outputs": [],
   "source": [
    "# customer_view = pd.merge(customer_view, sales_amount_key, how='inner', on='CustomerKey')"
   ]
  },
  {
   "cell_type": "code",
   "execution_count": 43,
   "id": "91796df4-a2e0-4b0f-a437-5a6929121a1c",
   "metadata": {
    "scrolled": true
   },
   "outputs": [],
   "source": [
    "# customer_view.head()"
   ]
  },
  {
   "cell_type": "code",
   "execution_count": 44,
   "id": "69d67868-29b5-47f6-82cd-6ca66e70dcb0",
   "metadata": {},
   "outputs": [],
   "source": [
    "# customer_view.shape"
   ]
  },
  {
   "cell_type": "code",
   "execution_count": 45,
   "id": "e88b53fa-44e5-42aa-9ea0-c62374c23915",
   "metadata": {},
   "outputs": [],
   "source": [
    "# customer_view.CustomerKey.nunique()"
   ]
  },
  {
   "cell_type": "code",
   "execution_count": 46,
   "id": "50fe94e1-8d6e-44db-a7f3-c656ff820061",
   "metadata": {},
   "outputs": [
    {
     "data": {
      "text/html": [
       "<div>\n",
       "<style scoped>\n",
       "    .dataframe tbody tr th:only-of-type {\n",
       "        vertical-align: middle;\n",
       "    }\n",
       "\n",
       "    .dataframe tbody tr th {\n",
       "        vertical-align: top;\n",
       "    }\n",
       "\n",
       "    .dataframe thead th {\n",
       "        text-align: right;\n",
       "    }\n",
       "</style>\n",
       "<table border=\"1\" class=\"dataframe\">\n",
       "  <thead>\n",
       "    <tr style=\"text-align: right;\">\n",
       "      <th></th>\n",
       "      <th>CustomerKey</th>\n",
       "      <th>Age</th>\n",
       "      <th>MaritalStatus</th>\n",
       "      <th>Gender</th>\n",
       "      <th>YearlyIncome</th>\n",
       "      <th>TotalChildren</th>\n",
       "      <th>NumberChildrenAtHome</th>\n",
       "      <th>Education</th>\n",
       "      <th>HouseOwnerFlag</th>\n",
       "      <th>NumberCarsOwned</th>\n",
       "      <th>Consumption</th>\n",
       "      <th>Amount</th>\n",
       "    </tr>\n",
       "  </thead>\n",
       "  <tbody>\n",
       "    <tr>\n",
       "      <th>0</th>\n",
       "      <td>4793</td>\n",
       "      <td>62</td>\n",
       "      <td>M</td>\n",
       "      <td>M</td>\n",
       "      <td>60000.0</td>\n",
       "      <td>1</td>\n",
       "      <td>0</td>\n",
       "      <td>Partial College</td>\n",
       "      <td>1</td>\n",
       "      <td>1</td>\n",
       "      <td>33756.2510</td>\n",
       "      <td>33756.2510</td>\n",
       "    </tr>\n",
       "    <tr>\n",
       "      <th>1</th>\n",
       "      <td>4794</td>\n",
       "      <td>57</td>\n",
       "      <td>S</td>\n",
       "      <td>F</td>\n",
       "      <td>70000.0</td>\n",
       "      <td>0</td>\n",
       "      <td>0</td>\n",
       "      <td>Bachelors</td>\n",
       "      <td>0</td>\n",
       "      <td>1</td>\n",
       "      <td>30342.1470</td>\n",
       "      <td>30342.1470</td>\n",
       "    </tr>\n",
       "    <tr>\n",
       "      <th>2</th>\n",
       "      <td>4795</td>\n",
       "      <td>57</td>\n",
       "      <td>M</td>\n",
       "      <td>F</td>\n",
       "      <td>80000.0</td>\n",
       "      <td>5</td>\n",
       "      <td>5</td>\n",
       "      <td>Bachelors</td>\n",
       "      <td>0</td>\n",
       "      <td>4</td>\n",
       "      <td>39773.1060</td>\n",
       "      <td>39773.1060</td>\n",
       "    </tr>\n",
       "    <tr>\n",
       "      <th>3</th>\n",
       "      <td>4796</td>\n",
       "      <td>57</td>\n",
       "      <td>M</td>\n",
       "      <td>F</td>\n",
       "      <td>80000.0</td>\n",
       "      <td>5</td>\n",
       "      <td>5</td>\n",
       "      <td>Bachelors</td>\n",
       "      <td>1</td>\n",
       "      <td>4</td>\n",
       "      <td>31457.9080</td>\n",
       "      <td>31457.9080</td>\n",
       "    </tr>\n",
       "    <tr>\n",
       "      <th>4</th>\n",
       "      <td>4810</td>\n",
       "      <td>62</td>\n",
       "      <td>M</td>\n",
       "      <td>M</td>\n",
       "      <td>70000.0</td>\n",
       "      <td>5</td>\n",
       "      <td>4</td>\n",
       "      <td>Partial College</td>\n",
       "      <td>1</td>\n",
       "      <td>3</td>\n",
       "      <td>31213.5885</td>\n",
       "      <td>31213.5885</td>\n",
       "    </tr>\n",
       "  </tbody>\n",
       "</table>\n",
       "</div>"
      ],
      "text/plain": [
       "   CustomerKey  Age MaritalStatus Gender  YearlyIncome  TotalChildren  \\\n",
       "0         4793   62             M      M       60000.0              1   \n",
       "1         4794   57             S      F       70000.0              0   \n",
       "2         4795   57             M      F       80000.0              5   \n",
       "3         4796   57             M      F       80000.0              5   \n",
       "4         4810   62             M      M       70000.0              5   \n",
       "\n",
       "   NumberChildrenAtHome        Education HouseOwnerFlag  NumberCarsOwned  \\\n",
       "0                     0  Partial College              1                1   \n",
       "1                     0        Bachelors              0                1   \n",
       "2                     5        Bachelors              0                4   \n",
       "3                     5        Bachelors              1                4   \n",
       "4                     4  Partial College              1                3   \n",
       "\n",
       "   Consumption      Amount  \n",
       "0   33756.2510  33756.2510  \n",
       "1   30342.1470  30342.1470  \n",
       "2   39773.1060  39773.1060  \n",
       "3   31457.9080  31457.9080  \n",
       "4   31213.5885  31213.5885  "
      ]
     },
     "execution_count": 46,
     "metadata": {},
     "output_type": "execute_result"
    }
   ],
   "source": [
    "customer_view.head()"
   ]
  },
  {
   "cell_type": "markdown",
   "id": "66ea6bad",
   "metadata": {},
   "source": [
    "### A. Answer Questions"
   ]
  },
  {
   "cell_type": "code",
   "execution_count": 49,
   "id": "836db825",
   "metadata": {},
   "outputs": [],
   "source": [
    "customer_data = customer_view.copy()"
   ]
  },
  {
   "cell_type": "markdown",
   "id": "ce4a7a82",
   "metadata": {},
   "source": [
    "#### Q1: Segmantation Analysis based on Consumption Factor"
   ]
  },
  {
   "cell_type": "code",
   "execution_count": 50,
   "id": "c4737f27",
   "metadata": {},
   "outputs": [
    {
     "data": {
      "text/plain": [
       "Gender\n",
       "F    3.388994e+08\n",
       "M    3.468543e+08\n",
       "Name: Consumption, dtype: float64"
      ]
     },
     "execution_count": 50,
     "metadata": {},
     "output_type": "execute_result"
    }
   ],
   "source": [
    "customer_data.groupby(['Gender'])['Consumption'].sum()"
   ]
  },
  {
   "cell_type": "code",
   "execution_count": 51,
   "id": "20da6b6f",
   "metadata": {
    "scrolled": true
   },
   "outputs": [
    {
     "data": {
      "image/png": "[encoded data removed]",
      "text/plain": [
       "<Figure size 432x288 with 1 Axes>"
      ]
     },
     "metadata": {
      "needs_background": "light"
     },
     "output_type": "display_data"
    }
   ],
   "source": [
    "sns.barplot(x='Gender', y='Consumption', data=customer_data)\n",
    "plt.show()"
   ]
  },
  {
   "cell_type": "code",
   "execution_count": 52,
   "id": "318f27db",
   "metadata": {},
   "outputs": [
    {
     "data": {
      "image/png": "[encoded data removed]",
      "text/plain": [
       "<Figure size 432x288 with 1 Axes>"
      ]
     },
     "metadata": {
      "needs_background": "light"
     },
     "output_type": "display_data"
    }
   ],
   "source": [
    "sns.barplot(x='MaritalStatus', y='Consumption', data=customer_data)\n",
    "plt.show()"
   ]
  },
  {
   "cell_type": "code",
   "execution_count": 56,
   "id": "1edbf534",
   "metadata": {},
   "outputs": [
    {
     "data": {
      "image/png": "[encoded data removed]",
      "text/plain": [
       "<Figure size 720x288 with 1 Axes>"
      ]
     },
     "metadata": {
      "needs_background": "light"
     },
     "output_type": "display_data"
    }
   ],
   "source": [
    "plt.figure(figsize=[10,4])\n",
    "sns.barplot(x='Education', y='Consumption', data=customer_data)\n",
    "plt.show()"
   ]
  },
  {
   "cell_type": "code",
   "execution_count": 57,
   "id": "6fc4dfd8",
   "metadata": {},
   "outputs": [],
   "source": [
    "# Convert Age to Groups data[(data['year'] >= 2005) & (data['year'] <= 2010)]"
   ]
  },
  {
   "cell_type": "code",
   "execution_count": 93,
   "id": "b2dd69e1",
   "metadata": {},
   "outputs": [
    {
     "data": {
      "text/plain": [
       "112"
      ]
     },
     "execution_count": 93,
     "metadata": {},
     "output_type": "execute_result"
    }
   ],
   "source": [
    "np.max(customer_data['Age'])"
   ]
  },
  {
   "cell_type": "code",
   "execution_count": 95,
   "id": "e8d23d1e",
   "metadata": {},
   "outputs": [
    {
     "data": {
      "image/png": "[encoded data removed]",
      "text/plain": [
       "<Figure size 432x288 with 1 Axes>"
      ]
     },
     "metadata": {
      "needs_background": "light"
     },
     "output_type": "display_data"
    }
   ],
   "source": [
    "bins = [np.min(customer_data['Age']), 60, 80, np.max(customer_data['Age'])]\n",
    "labels = ['42=>60', '60=>80', '80=>112']\n",
    "customer_data['AgeGroup'] = pd.cut(customer_data['Age'], bins = bins, labels = labels, right=False)\n",
    "sns.barplot(x='AgeGroup', y='Consumption', data=customer_data)\n",
    "plt.show()"
   ]
  },
  {
   "cell_type": "markdown",
   "id": "37db9a81",
   "metadata": {},
   "source": [
    "### Q2: Where should Contos locate their new store? "
   ]
  },
  {
   "cell_type": "code",
   "execution_count": 97,
   "id": "7a73f5b4",
   "metadata": {},
   "outputs": [],
   "source": [
    "region = run_query('select CustomerKey, Region from V_OnlineSalesOrder')"
   ]
  },
  {
   "cell_type": "code",
   "execution_count": 99,
   "id": "3b889873",
   "metadata": {},
   "outputs": [
    {
     "data": {
      "text/html": [
       "<div>\n",
       "<style scoped>\n",
       "    .dataframe tbody tr th:only-of-type {\n",
       "        vertical-align: middle;\n",
       "    }\n",
       "\n",
       "    .dataframe tbody tr th {\n",
       "        vertical-align: top;\n",
       "    }\n",
       "\n",
       "    .dataframe thead th {\n",
       "        text-align: right;\n",
       "    }\n",
       "</style>\n",
       "<table border=\"1\" class=\"dataframe\">\n",
       "  <thead>\n",
       "    <tr style=\"text-align: right;\">\n",
       "      <th></th>\n",
       "      <th>CustomerKey</th>\n",
       "      <th>Region</th>\n",
       "    </tr>\n",
       "  </thead>\n",
       "  <tbody>\n",
       "    <tr>\n",
       "      <th>0</th>\n",
       "      <td>26</td>\n",
       "      <td>Australia</td>\n",
       "    </tr>\n",
       "    <tr>\n",
       "      <th>1</th>\n",
       "      <td>81</td>\n",
       "      <td>Australia</td>\n",
       "    </tr>\n",
       "    <tr>\n",
       "      <th>2</th>\n",
       "      <td>180</td>\n",
       "      <td>United States</td>\n",
       "    </tr>\n",
       "    <tr>\n",
       "      <th>3</th>\n",
       "      <td>261</td>\n",
       "      <td>United States</td>\n",
       "    </tr>\n",
       "    <tr>\n",
       "      <th>4</th>\n",
       "      <td>270</td>\n",
       "      <td>United States</td>\n",
       "    </tr>\n",
       "  </tbody>\n",
       "</table>\n",
       "</div>"
      ],
      "text/plain": [
       "   CustomerKey         Region\n",
       "0           26      Australia\n",
       "1           81      Australia\n",
       "2          180  United States\n",
       "3          261  United States\n",
       "4          270  United States"
      ]
     },
     "execution_count": 99,
     "metadata": {},
     "output_type": "execute_result"
    }
   ],
   "source": [
    "region.head()"
   ]
  }
 ],
 "metadata": {
  "kernelspec": {
   "display_name": "Python 3",
   "language": "python",
   "name": "python3"
  },
  "language_info": {
   "codemirror_mode": {
    "name": "ipython",
    "version": 3
   },
   "file_extension": ".py",
   "mimetype": "text/x-python",
   "name": "python",
   "nbconvert_exporter": "python",
   "pygments_lexer": "ipython3",
   "version": "3.8.8"
  }
 },
 "nbformat": 4,
 "nbformat_minor": 5
}
